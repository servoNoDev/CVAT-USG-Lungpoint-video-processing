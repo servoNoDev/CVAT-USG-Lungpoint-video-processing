{
 "cells": [
  {
   "cell_type": "code",
   "execution_count": 8,
   "metadata": {},
   "outputs": [],
   "source": [
    "import pandas as pd\n",
    "import cv2\n",
    "import os\n",
    "import json\n",
    "import string\n",
    "import random as rand"
   ]
  },
  {
   "cell_type": "code",
   "execution_count": 9,
   "metadata": {},
   "outputs": [],
   "source": [
    "CVAT_FOLDER_PATH = \"/home/mh731nk/_data/experiments_tmp/data/revision_8/cvat_project_raw_unzip\""
   ]
  },
  {
   "cell_type": "markdown",
   "metadata": {},
   "source": [
    "# Read video DataFrame \n",
    "Data was prepared in the previous part of the project"
   ]
  },
  {
   "cell_type": "code",
   "execution_count": 10,
   "metadata": {},
   "outputs": [],
   "source": [
    "# Dataset path\n",
    "df_videos = pd.read_pickle(\"/home/mh731nk/_data/experiments_tmp/data/revision_8/video.pkl\", 'zip')"
   ]
  },
  {
   "cell_type": "markdown",
   "metadata": {},
   "source": [
    "# Select videos for experiments"
   ]
  },
  {
   "cell_type": "code",
   "execution_count": 11,
   "metadata": {},
   "outputs": [
    {
     "name": "stdout",
     "output_type": "stream",
     "text": [
      "LP -> 17\n",
      "A -> 9\n",
      "P -> 26\n"
     ]
    }
   ],
   "source": [
    "df_filtere_videos = df_videos.loc[df_videos[\"folder_class\"].isin([\n",
    "    'USG - Lung point',\n",
    "    'USG - Lung sliding absent (aj ine znaky - radiol. klin.)',\n",
    "    'USG - Lung sliding present (aj ine znaky - radiol. klin.)'\n",
    "    ])]\n",
    "\n",
    "print(f'LP -> {df_filtere_videos.loc[df_videos[\"folder_class\"] == \"USG - Lung point\"].shape[0]}')\n",
    "print(f'A -> {df_filtere_videos.loc[df_videos[\"folder_class\"] == \"USG - Lung sliding absent (aj ine znaky - radiol. klin.)\"].shape[0]}')\n",
    "print(f'P -> {df_filtere_videos.loc[df_videos[\"folder_class\"] == \"USG - Lung sliding present (aj ine znaky - radiol. klin.)\"].shape[0]}')\n"
   ]
  },
  {
   "cell_type": "markdown",
   "metadata": {},
   "source": [
    "# Read anotations for videos"
   ]
  },
  {
   "cell_type": "code",
   "execution_count": 12,
   "metadata": {},
   "outputs": [],
   "source": [
    "def id_generator(self, size: int = 8, chars: str = string.ascii_uppercase + string.digits) -> str:\n",
    "    \"\"\"\n",
    "    Generate a random string identifier.\n",
    "\n",
    "    This method generates a random string of the specified size using a secure random\n",
    "    generator. By default, the generated string consists of uppercase letters and digits.\n",
    "\n",
    "    Args:\n",
    "        size (int): The length of the generated string. Defaults to 8.\n",
    "        chars (str): A string containing the set of characters to choose from.\n",
    "                     Defaults to uppercase letters and digits (A-Z, 0-9).\n",
    "\n",
    "    Returns:\n",
    "        str: A randomly generated string identifier.\n",
    "    \"\"\"\n",
    "    return ''.join(random.SystemRandom().choice(chars) for _ in range(size))\n"
   ]
  },
  {
   "cell_type": "markdown",
   "metadata": {},
   "source": [
    "Each video exported from the CVAT annotation tool is organized into a structured folder that holds both the raw video data and its associated metadata. This structure typically includes:\n",
    "\n",
    "Raw Video Storage:\n",
    "The primary video file is saved in a dedicated folder, ensuring that the original footage is preserved intact.\n",
    "\n",
    "Metadata Files:\n",
    "Accompanying the raw video are metadata files (often in JSON format) that provide detailed information about the video, such as resolution, frame rate, and other relevant properties.\n",
    "\n",
    "Annotation Data:\n",
    "In addition to video metadata, the export includes detailed annotation files. These files contain information about label masks and polygon coordinates for each frame, which outline the annotated regions of interest within the video. This structured annotation data is essential for tasks like object detection and segmentation.\n",
    "\n",
    "This systematic folder organization makes it easy to access and process both the video content and its annotations, streamlining workflows for analysis and machine learning applications."
   ]
  },
  {
   "cell_type": "code",
   "execution_count": 21,
   "metadata": {},
   "outputs": [
    {
     "name": "stdout",
     "output_type": "stream",
     "text": [
      "Start processing of 52 videos\n",
      "Dataset include 2658 polygons.\n"
     ]
    }
   ],
   "source": [
    "# Initialize a list to hold rows extracted from annotations\n",
    "rows_to_append = []\n",
    "print(f\"Start processing of {df_filtere_videos.shape[0]} videos\")\n",
    "# Iterate over each row in the DataFrame containing filtered videos\n",
    "for index, video_df_row in df_filtere_videos.iterrows():\n",
    "    \n",
    "    # Build the path to the 'data' folder within the current video's subfolder\n",
    "    data_folder_path = os.path.join(\n",
    "        CVAT_FOLDER_PATH, \n",
    "        video_df_row[\"video_subfolder_path\"], \n",
    "        'data'\n",
    "    )\n",
    "    \n",
    "    # Walk through the directory tree starting at data_folder_path.\n",
    "    # os.walk returns tuples of (current_path, directories, files)\n",
    "    folders_scan = [x for x in os.walk(data_folder_path)]\n",
    "    \n",
    "    # Retrieve the first subdirectory from the scan (assumes at least one exists)\n",
    "    video_folder = folders_scan[0][1][0]\n",
    "    \n",
    "    # Print the name of the video folder (for debugging or logging purposes)\n",
    "    # print(f' Video {video_df_row[\"video_id\"]} is processing')\n",
    "    \n",
    "    # Construct the full path to the video subfolder\n",
    "    path_video = os.path.join(\n",
    "        CVAT_FOLDER_PATH,\n",
    "        video_df_row[\"video_subfolder_path\"]\n",
    "    )\n",
    "    \n",
    "    # Open and load the annotations JSON file\n",
    "    with open(os.path.join(path_video, 'annotations.json')) as json_file:\n",
    "        json_anotation = json.load(json_file)\n",
    "    \n",
    "    # Open and load the task JSON file\n",
    "    with open(os.path.join(path_video, 'task.json')) as json_file:\n",
    "        task = json.load(json_file)\n",
    "    \n",
    "    # Iterate over each polygon shape in the first annotation object\n",
    "    for polygon in json_anotation[0]['shapes']:\n",
    "        # Create a dictionary with the extracted details for each polygon\n",
    "        row = {\n",
    "            'polygon_id': id_generator(8),               # Generate a unique identifier for the polygon\n",
    "            'video_id': video_df_row[\"video_id\"],        # Retrieve the video ID from the DataFrame row\n",
    "            'name_cvat': task[\"name\"],                   # Retrieve the task name from the task JSON\n",
    "            'type': polygon[\"type\"],                     # The type of shape (e.g., polygon, rectangle)\n",
    "            'frame': int(polygon[\"frame\"]),              # Convert the frame number to an integer\n",
    "            'polygon_label': polygon[\"label\"],           # The label assigned to the polygon (e.g., object class)\n",
    "            'points': list(polygon[\"points\"])            # List of coordinate points defining the polygon\n",
    "        }\n",
    "        # Append the dictionary to the list of rows to be processed later\n",
    "        rows_to_append.append(row)\n",
    "\n",
    "df_polygons = pd.DataFrame(rows_to_append) \n",
    "print(f'Dataset include {df_polygons.shape[0]} polygons.')"
   ]
  },
  {
   "cell_type": "code",
   "execution_count": null,
   "metadata": {},
   "outputs": [],
   "source": []
  }
 ],
 "metadata": {
  "kernelspec": {
   "display_name": "mh731nk_apvv-lung-eval",
   "language": "python",
   "name": "python3"
  },
  "language_info": {
   "codemirror_mode": {
    "name": "ipython",
    "version": 3
   },
   "file_extension": ".py",
   "mimetype": "text/x-python",
   "name": "python",
   "nbconvert_exporter": "python",
   "pygments_lexer": "ipython3",
   "version": "3.9.16"
  }
 },
 "nbformat": 4,
 "nbformat_minor": 2
}
